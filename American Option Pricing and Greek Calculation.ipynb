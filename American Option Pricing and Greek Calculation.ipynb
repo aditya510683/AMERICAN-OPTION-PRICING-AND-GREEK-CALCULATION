{
 "cells": [
  {
   "cell_type": "markdown",
   "metadata": {},
   "source": [
    "# American Option Pricing and Greek Calculation Using Binomial Tree Model"
   ]
  },
  {
   "cell_type": "markdown",
   "metadata": {},
   "source": [
    "## Overview: \n",
    "### An American option is a type of options contract that can be exercised at any time before expiration. This flexibility requires a more sophisticated pricing model compared to European options. The binomial tree model is a popular method for this purpose, which discretizes the option's life into several time steps and models the underlying asset price movements."
   ]
  },
  {
   "cell_type": "code",
   "execution_count": 1,
   "metadata": {},
   "outputs": [],
   "source": [
    "import numpy as np"
   ]
  },
  {
   "cell_type": "code",
   "execution_count": 3,
   "metadata": {},
   "outputs": [],
   "source": [
    "def binomial_tree_american_option(S, K, T, r, sigma, N, option_type='call'):\n",
    "    dt = T / N\n",
    "    u = np.exp(sigma * np.sqrt(dt))\n",
    "    d = np.exp(-sigma * np.sqrt(dt))\n",
    "    p = (np.exp(r * dt) - d) / (u - d)\n",
    "     # Initialize asset prices at maturity\n",
    "    asset_prices = np.zeros(N + 1)\n",
    "    option_values = np.zeros(N + 1)\n",
    "    \n",
    "    #Calculates asset prices at maturity for each possible path.\n",
    "    for j in range(N + 1):\n",
    "        asset_prices[j] = S * (u ** j) * (d ** (N - j))\n",
    "    \n",
    "    # Initialize option values at maturity\n",
    "    if option_type == 'call':\n",
    "        for j in range(N + 1):\n",
    "            option_values[j] = max(0, asset_prices[j] - K)\n",
    "    elif option_type == 'put':\n",
    "        for j in range(N + 1):\n",
    "            option_values[j] = max(0, K - asset_prices[j])\n",
    "    \n",
    "    # Backward Iteration through the tree\n",
    "    for i in range(N - 1, -1, -1):\n",
    "        for j in range(i + 1):\n",
    "            option_values[j] = np.exp(-r * dt) * (p * option_values[j + 1] + (1 - p) * option_values[j])\n",
    "            asset_prices[j] = asset_prices[j] / u\n",
    "            if option_type == 'call':\n",
    "                option_values[j] = max(option_values[j], asset_prices[j] - K)\n",
    "            elif option_type == 'put':\n",
    "                option_values[j] = max(option_values[j], K - asset_prices[j])\n",
    "    \n",
    "    return option_values[0]"
   ]
  },
  {
   "cell_type": "markdown",
   "metadata": {},
   "source": [
    "1. **Initialization:**\n",
    "   - **Parameters**:\n",
    "     - `dt = T / N`: Time step size.\n",
    "     - `u = np.exp(sigma * np.sqrt(dt))`: Up factor.\n",
    "     - `d = np.exp(-sigma * np.sqrt(dt))`: Down factor.\n",
    "     - `p = (np.exp(r * dt) - d) / (u - d)`: Risk-neutral probability.\n",
    "\n",
    "2. **Asset Prices at Maturity:**\n",
    "   - **Calculation**: Computes asset prices at maturity for each path:\n",
    "     - `asset_prices[j] = S * (u ** j) * (d ** (N - j))`\n",
    "\n",
    "3. **Option Values at Maturity:**\n",
    "   - **Initialization**: Depending on `option_type` ('call' or 'put'), initializes option values (`option_values[j]`) at maturity (`N`).\n",
    "\n",
    "4. **Backward Iteration through the Tree:**\n",
    "   - **Update Option Values**: Iterates backward through the tree, updating option values:\n",
    "     - `option_values[j] = np.exp(-r * dt) * (p * option_values[j + 1] + (1 - p) * option_values[j])`\n",
    "   - **Adjust Asset Prices**: Adjusts asset prices downward for each node in the current step.\n",
    "\n",
    "5. **Early Exercise Check:**\n",
    "   - Updates option values to consider early exercise opportunities based on `asset_prices[j]`.\n",
    "\n",
    "6. **Return Value:**\n",
    "   - Returns `option_values[0]`, the price of the American option at the initial node of the binomial tree."
   ]
  },
  {
   "cell_type": "code",
   "execution_count": 4,
   "metadata": {},
   "outputs": [],
   "source": [
    "# Example usage\n",
    "S = 100  # Current stock price\n",
    "K = 100  # Strike price\n",
    "T = 1    # Time to maturity (1 year)\n",
    "r = 0.05  # Risk-free interest rate\n",
    "sigma = 0.2  # Volatility\n",
    "N = 100  # Number of steps in the binomial tree\n"
   ]
  },
  {
   "cell_type": "code",
   "execution_count": 5,
   "metadata": {},
   "outputs": [],
   "source": [
    "call_price = binomial_tree_american_option(S, K, T, r, sigma, N, option_type='call')\n",
    "put_price = binomial_tree_american_option(S, K, T, r, sigma, N, option_type='put')"
   ]
  },
  {
   "cell_type": "code",
   "execution_count": 6,
   "metadata": {},
   "outputs": [
    {
     "name": "stdout",
     "output_type": "stream",
     "text": [
      "American Call Option Price: 10.430611662249142\n",
      "American Put Option Price: 98.16843611112658\n"
     ]
    }
   ],
   "source": [
    "\n",
    "print(f\"American Call Option Price: {call_price}\")\n",
    "print(f\"American Put Option Price: {put_price}\")"
   ]
  },
  {
   "cell_type": "code",
   "execution_count": 7,
   "metadata": {},
   "outputs": [],
   "source": [
    "def calculate_greeks(S, K, T, r, sigma, N, option_type='call'):\n",
    "    delta_S = 1e-4 * S  # Small change in S\n",
    "    delta_t = 1e-4 * T  # Small change in T\n",
    "    delta_sigma = 1e-4 * sigma  # Small change in sigma\n",
    "    delta_r = 1e-4 * r  # Small change in r\n",
    "    \n",
    "    # Calculate option prices for perturbations\n",
    "    price = binomial_tree_american_option(S, K, T, r, sigma, N, option_type)\n",
    "    \n",
    "    price_up_S = binomial_tree_american_option(S + delta_S, K, T, r, sigma, N, option_type)\n",
    "    price_down_S = binomial_tree_american_option(S - delta_S, K, T, r, sigma, N, option_type)\n",
    "    \n",
    "    price_up_t = binomial_tree_american_option(S, K, T - delta_t, r, sigma, N, option_type)\n",
    "    \n",
    "    price_up_sigma = binomial_tree_american_option(S, K, T, r, sigma + delta_sigma, N, option_type)\n",
    "    \n",
    "    price_up_r = binomial_tree_american_option(S, K, T, r + delta_r, sigma, N, option_type)\n",
    "    \n",
    "    # Calculate Greeks\n",
    "    delta = (price_up_S - price_down_S) / (2 * delta_S)\n",
    "    gamma = (price_up_S - 2 * price + price_down_S) / (delta_S ** 2)\n",
    "    theta = (price_up_t - price) / delta_t\n",
    "    vega = (price_up_sigma - price) / delta_sigma\n",
    "    rho = (price_up_r - price) / delta_r\n",
    "    \n",
    "    return {\n",
    "        'Delta': delta,\n",
    "        'Gamma': gamma,\n",
    "        'Theta': theta,\n",
    "        'Vega': vega,\n",
    "        'Rho': rho\n",
    "    }"
   ]
  },
  {
   "cell_type": "markdown",
   "metadata": {},
   "source": [
    "1. **Initialization:**\n",
    "   - **Parameters**:\n",
    "     - `delta_S = 1e-4 * S`: Small change in the underlying asset price (`S`).\n",
    "     - `delta_t = 1e-4 * T`: Small change in time to maturity (`T`).\n",
    "     - `delta_sigma = 1e-4 * sigma`: Small change in volatility (`sigma`).\n",
    "     - `delta_r = 1e-4 * r`: Small change in the risk-free interest rate (`r`).\n",
    "\n",
    "2. **Calculate Option Prices for Perturbations:**\n",
    "   - Computes the initial price of the American option:\n",
    "     ```python\n",
    "     price = binomial_tree_american_option(S, K, T, r, sigma, N, option_type)\n",
    "     ```\n",
    "   - Perturbs each parameter (`S`, `T`, `sigma`, `r`) and computes corresponding option prices:\n",
    "     ```python\n",
    "     price_up_S = binomial_tree_american_option(S + delta_S, K, T, r, sigma, N, option_type)\n",
    "     price_down_S = binomial_tree_american_option(S - delta_S, K, T, r, sigma, N, option_type)\n",
    "     price_up_t = binomial_tree_american_option(S, K, T - delta_t, r, sigma, N, option_type)\n",
    "     price_up_sigma = binomial_tree_american_option(S, K, T, r, sigma + delta_sigma, N, option_type)\n",
    "     price_up_r = binomial_tree_american_option(S, K, T, r + delta_r, sigma, N, option_type)\n",
    "     ```\n",
    "\n",
    "3. **Calculate Greeks:**\n",
    "   - **Delta (`Δ`)**:\n",
    "     ```python\n",
    "     delta = (price_up_S - price_down_S) / (2 * delta_S)\n",
    "     ```\n",
    "   - **Gamma (`Γ`)**:\n",
    "     ```python\n",
    "     gamma = (price_up_S - 2 * price + price_down_S) / (delta_S ** 2)\n",
    "     ```\n",
    "   - **Theta (`Θ`)**:\n",
    "     ```python\n",
    "     theta = (price_up_t - price) / delta_t\n",
    "     ```\n",
    "   - **Vega (`ν`)**:\n",
    "     ```python\n",
    "     vega = (price_up_sigma - price) / delta_sigma\n",
    "     ```\n",
    "   - **Rho (`ρ`)**:\n",
    "     ```python\n",
    "     rho = (price_up_r - price) / delta_r\n",
    "     ```\n",
    "\n",
    "4. **Return Values:**\n",
    "   - Returns a dictionary containing the calculated Greeks."
   ]
  },
  {
   "cell_type": "code",
   "execution_count": 8,
   "metadata": {},
   "outputs": [],
   "source": [
    "call_greeks = calculate_greeks(S, K, T, r, sigma, N, option_type='call')\n",
    "put_greeks = calculate_greeks(S, K, T, r, sigma, N, option_type='put')"
   ]
  },
  {
   "cell_type": "code",
   "execution_count": 9,
   "metadata": {},
   "outputs": [
    {
     "name": "stdout",
     "output_type": "stream",
     "text": [
      "American Call Option Greeks: {'Delta': 0.6365119623631621, 'Gamma': 7.486003950827325, 'Theta': -6.404135864084282, 'Vega': 37.43011807104679, 'Rho': 53.22091994237609}\n",
      "American Put Option Greeks: {'Delta': -0.018315638888566355, 'Gamma': 0.0, 'Theta': -3.6635857158273666, 'Vega': 36.62395249861561, 'Rho': 0.0}\n"
     ]
    }
   ],
   "source": [
    "print(f\"American Call Option Greeks: {call_greeks}\")\n",
    "print(f\"American Put Option Greeks: {put_greeks}\")"
   ]
  }
 ],
 "metadata": {
  "kernelspec": {
   "display_name": "Python 3",
   "language": "python",
   "name": "python3"
  },
  "language_info": {
   "codemirror_mode": {
    "name": "ipython",
    "version": 3
   },
   "file_extension": ".py",
   "mimetype": "text/x-python",
   "name": "python",
   "nbconvert_exporter": "python",
   "pygments_lexer": "ipython3",
   "version": "3.11.6"
  }
 },
 "nbformat": 4,
 "nbformat_minor": 2
}
